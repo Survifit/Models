{
 "cells": [
  {
   "cell_type": "code",
   "execution_count": 1,
   "metadata": {},
   "outputs": [],
   "source": [
    "# Prefferential attachment model\n",
    "import numpy as np\n",
    "import matplotlib.pyplot as plt\n"
   ]
  },
  {
   "cell_type": "code",
   "execution_count": 2,
   "metadata": {},
   "outputs": [
    {
     "name": "stdout",
     "output_type": "stream",
     "text": [
      "[1981, 43101, 41499, 6245, 6144, 447, 244, 249, 43, 9, 15, 10, 8, 5]\n",
      "[0, 1, 2, 3, 4, 5, 6, 7, 8, 9, 10, 11, 12, 13, 14]\n",
      "100000\n"
     ]
    },
    {
     "data": {
      "image/png": "[encoded data removed]",
      "text/plain": [
       "<Figure size 432x288 with 1 Axes>"
      ]
     },
     "metadata": {
      "needs_background": "light"
     },
     "output_type": "display_data"
    }
   ],
   "source": [
    "# array for probabilities\n",
    "prob = []\n",
    "# set of outcomes\n",
    "outcome = []\n",
    "# population size\n",
    "n = 100000\n",
    "\n",
    "for i in range(n):\n",
    "    # reset probability list with probability a new individual will create their own group\n",
    "    prob = [1/(i+1)]\n",
    "    if outcome == []:\n",
    "        #add first individual to the first container\n",
    "        outcome.append(i+1)\n",
    "        \n",
    "    else:\n",
    "        for o in outcome:\n",
    "            #update probability list based on current number of groups\n",
    "            prob.append(o/(i+1))\n",
    "            \n",
    "        options = [x for x in range(len(outcome)+1)]\n",
    "        container = int(np.random.choice(options, 1, p=prob))\n",
    "        \n",
    "        if container == 0:\n",
    "            #add a new container to outcomes with the newest member of the population (p=1/n)\n",
    "            outcome.append(1)\n",
    "            \n",
    "        else:\n",
    "            #add individual to container in outcome array randomly selected by 'container'\n",
    "            outcome[container-1] = outcome[container-1] + 1\n",
    "    \n",
    "print(outcome)\n",
    "print(options)\n",
    "print(sum(outcome))\n",
    "options.pop(0)\n",
    "plt.plot(options, outcome, marker='o', markersize=10)\n",
    "plt.show() "
   ]
  },
  {
   "cell_type": "code",
   "execution_count": 3,
   "metadata": {},
   "outputs": [],
   "source": [
    "# data = np.random.randn(2, 100)\n",
    "# print(data)"
   ]
  },
  {
   "cell_type": "code",
   "execution_count": null,
   "metadata": {},
   "outputs": [],
   "source": []
  },
  {
   "cell_type": "code",
   "execution_count": null,
   "metadata": {},
   "outputs": [],
   "source": []
  }
 ],
 "metadata": {
  "kernelspec": {
   "display_name": "Python 3",
   "language": "python",
   "name": "python3"
  },
  "language_info": {
   "codemirror_mode": {
    "name": "ipython",
    "version": 3
   },
   "file_extension": ".py",
   "mimetype": "text/x-python",
   "name": "python",
   "nbconvert_exporter": "python",
   "pygments_lexer": "ipython3",
   "version": "3.7.1"
  }
 },
 "nbformat": 4,
 "nbformat_minor": 2
}
