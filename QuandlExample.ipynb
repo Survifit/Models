{
 "cells": [
  {
   "cell_type": "code",
   "execution_count": 1,
   "metadata": {},
   "outputs": [],
   "source": [
    "import quandl\n"
   ]
  },
  {
   "cell_type": "code",
   "execution_count": 2,
   "metadata": {},
   "outputs": [],
   "source": [
    "import pandas as pd\n"
   ]
  },
  {
   "cell_type": "code",
   "execution_count": 3,
   "metadata": {},
   "outputs": [],
   "source": [
    "quandl.ApiConfig.api_key = ''"
   ]
  },
  {
   "cell_type": "code",
   "execution_count": 4,
   "metadata": {},
   "outputs": [],
   "source": [
    "apple = quandl.get('WIKI/AAPL')\n",
    "ms = quandl.get('WIKI/MSFT')\n"
   ]
  },
  {
   "cell_type": "code",
   "execution_count": 5,
   "metadata": {},
   "outputs": [],
   "source": [
    "%matplotlib inline"
   ]
  },
  {
   "cell_type": "code",
   "execution_count": 9,
   "metadata": {},
   "outputs": [
    {
     "data": {
      "text/html": [
       "<div>\n",
       "<style scoped>\n",
       "    .dataframe tbody tr th:only-of-type {\n",
       "        vertical-align: middle;\n",
       "    }\n",
       "\n",
       "    .dataframe tbody tr th {\n",
       "        vertical-align: top;\n",
       "    }\n",
       "\n",
       "    .dataframe thead th {\n",
       "        text-align: right;\n",
       "    }\n",
       "</style>\n",
       "<table border=\"1\" class=\"dataframe\">\n",
       "  <thead>\n",
       "    <tr style=\"text-align: right;\">\n",
       "      <th></th>\n",
       "      <th>Open</th>\n",
       "      <th>High</th>\n",
       "      <th>Low</th>\n",
       "      <th>Close</th>\n",
       "      <th>Volume</th>\n",
       "      <th>Ex-Dividend</th>\n",
       "      <th>Split Ratio</th>\n",
       "      <th>Adj. Open</th>\n",
       "      <th>Adj. High</th>\n",
       "      <th>Adj. Low</th>\n",
       "      <th>Adj. Close</th>\n",
       "      <th>Adj. Volume</th>\n",
       "    </tr>\n",
       "    <tr>\n",
       "      <th>Date</th>\n",
       "      <th></th>\n",
       "      <th></th>\n",
       "      <th></th>\n",
       "      <th></th>\n",
       "      <th></th>\n",
       "      <th></th>\n",
       "      <th></th>\n",
       "      <th></th>\n",
       "      <th></th>\n",
       "      <th></th>\n",
       "      <th></th>\n",
       "      <th></th>\n",
       "    </tr>\n",
       "  </thead>\n",
       "  <tbody>\n",
       "    <tr>\n",
       "      <th>2018-03-21</th>\n",
       "      <td>175.04</td>\n",
       "      <td>175.09</td>\n",
       "      <td>171.26</td>\n",
       "      <td>171.270</td>\n",
       "      <td>35247358.0</td>\n",
       "      <td>0.0</td>\n",
       "      <td>1.0</td>\n",
       "      <td>175.04</td>\n",
       "      <td>175.09</td>\n",
       "      <td>171.26</td>\n",
       "      <td>171.270</td>\n",
       "      <td>35247358.0</td>\n",
       "    </tr>\n",
       "    <tr>\n",
       "      <th>2018-03-22</th>\n",
       "      <td>170.00</td>\n",
       "      <td>172.68</td>\n",
       "      <td>168.60</td>\n",
       "      <td>168.845</td>\n",
       "      <td>41051076.0</td>\n",
       "      <td>0.0</td>\n",
       "      <td>1.0</td>\n",
       "      <td>170.00</td>\n",
       "      <td>172.68</td>\n",
       "      <td>168.60</td>\n",
       "      <td>168.845</td>\n",
       "      <td>41051076.0</td>\n",
       "    </tr>\n",
       "    <tr>\n",
       "      <th>2018-03-23</th>\n",
       "      <td>168.39</td>\n",
       "      <td>169.92</td>\n",
       "      <td>164.94</td>\n",
       "      <td>164.940</td>\n",
       "      <td>40248954.0</td>\n",
       "      <td>0.0</td>\n",
       "      <td>1.0</td>\n",
       "      <td>168.39</td>\n",
       "      <td>169.92</td>\n",
       "      <td>164.94</td>\n",
       "      <td>164.940</td>\n",
       "      <td>40248954.0</td>\n",
       "    </tr>\n",
       "    <tr>\n",
       "      <th>2018-03-26</th>\n",
       "      <td>168.07</td>\n",
       "      <td>173.10</td>\n",
       "      <td>166.44</td>\n",
       "      <td>172.770</td>\n",
       "      <td>36272617.0</td>\n",
       "      <td>0.0</td>\n",
       "      <td>1.0</td>\n",
       "      <td>168.07</td>\n",
       "      <td>173.10</td>\n",
       "      <td>166.44</td>\n",
       "      <td>172.770</td>\n",
       "      <td>36272617.0</td>\n",
       "    </tr>\n",
       "    <tr>\n",
       "      <th>2018-03-27</th>\n",
       "      <td>173.68</td>\n",
       "      <td>175.15</td>\n",
       "      <td>166.92</td>\n",
       "      <td>168.340</td>\n",
       "      <td>38962839.0</td>\n",
       "      <td>0.0</td>\n",
       "      <td>1.0</td>\n",
       "      <td>173.68</td>\n",
       "      <td>175.15</td>\n",
       "      <td>166.92</td>\n",
       "      <td>168.340</td>\n",
       "      <td>38962839.0</td>\n",
       "    </tr>\n",
       "  </tbody>\n",
       "</table>\n",
       "</div>"
      ],
      "text/plain": [
       "              Open    High     Low    Close      Volume  Ex-Dividend  \\\n",
       "Date                                                                   \n",
       "2018-03-21  175.04  175.09  171.26  171.270  35247358.0          0.0   \n",
       "2018-03-22  170.00  172.68  168.60  168.845  41051076.0          0.0   \n",
       "2018-03-23  168.39  169.92  164.94  164.940  40248954.0          0.0   \n",
       "2018-03-26  168.07  173.10  166.44  172.770  36272617.0          0.0   \n",
       "2018-03-27  173.68  175.15  166.92  168.340  38962839.0          0.0   \n",
       "\n",
       "            Split Ratio  Adj. Open  Adj. High  Adj. Low  Adj. Close  \\\n",
       "Date                                                                  \n",
       "2018-03-21          1.0     175.04     175.09    171.26     171.270   \n",
       "2018-03-22          1.0     170.00     172.68    168.60     168.845   \n",
       "2018-03-23          1.0     168.39     169.92    164.94     164.940   \n",
       "2018-03-26          1.0     168.07     173.10    166.44     172.770   \n",
       "2018-03-27          1.0     173.68     175.15    166.92     168.340   \n",
       "\n",
       "            Adj. Volume  \n",
       "Date                     \n",
       "2018-03-21   35247358.0  \n",
       "2018-03-22   41051076.0  \n",
       "2018-03-23   40248954.0  \n",
       "2018-03-26   36272617.0  \n",
       "2018-03-27   38962839.0  "
      ]
     },
     "execution_count": 9,
     "metadata": {},
     "output_type": "execute_result"
    }
   ],
   "source": [
    "apple.head()\n",
    "apple.tail()"
   ]
  },
  {
   "cell_type": "code",
   "execution_count": 7,
   "metadata": {},
   "outputs": [
    {
     "data": {
      "text/plain": [
       "<matplotlib.axes._subplots.AxesSubplot at 0x1e138cf3240>"
      ]
     },
     "execution_count": 7,
     "metadata": {},
     "output_type": "execute_result"
    },
    {
     "data": {
      "image/png": "[encoded data removed]",
      "text/plain": [
       "<Figure size 432x288 with 1 Axes>"
      ]
     },
     "metadata": {
      "needs_background": "light"
     },
     "output_type": "display_data"
    }
   ],
   "source": [
    "apple['Adj. Close'].plot()"
   ]
  },
  {
   "cell_type": "code",
   "execution_count": null,
   "metadata": {},
   "outputs": [],
   "source": []
  }
 ],
 "metadata": {
  "kernelspec": {
   "display_name": "Python [conda env:Quant]",
   "language": "python",
   "name": "conda-env-Quant-py"
  },
  "language_info": {
   "codemirror_mode": {
    "name": "ipython",
    "version": 3
   },
   "file_extension": ".py",
   "mimetype": "text/x-python",
   "name": "python",
   "nbconvert_exporter": "python",
   "pygments_lexer": "ipython3",
   "version": "3.7.3"
  }
 },
 "nbformat": 4,
 "nbformat_minor": 2
}
